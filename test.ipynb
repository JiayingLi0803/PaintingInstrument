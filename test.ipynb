{
 "cells": [
  {
   "cell_type": "code",
   "execution_count": 3,
   "metadata": {},
   "outputs": [],
   "source": [
    "from musicpy import *"
   ]
  },
  {
   "cell_type": "markdown",
   "metadata": {},
   "source": [
    "|  No  | Instrument  |\n",
    "| ---- | ---- |\n",
    "|  20  | Church Organ |\n",
    "|  25  | Acoustic Guitar (steel) |\n",
    "|  46  | Orchestral Harp |\n",
    "|  108 | Kalimba |\n",
    "|  109 | Bagpipe |\n",
    "|  123 | Bird Tweet| \n"
   ]
  },
  {
   "cell_type": "code",
   "execution_count": 19,
   "metadata": {},
   "outputs": [],
   "source": [
    "guitar = (C('CM7', 3, 1/4, 1/8)^2 |\n",
    "          C('G7sus', 2, 1/4, 1/8)^2 |\n",
    "          C('A7sus', 2, 1/4, 1/8)^2 |\n",
    "          C('Em7', 2, 1/4, 1/8)^2 | \n",
    "          C('FM7', 2, 1/4, 1/8)^2 |\n",
    "          C('CM7', 3, 1/4, 1/8)@1 |\n",
    "          C('AbM7', 2, 1/4, 1/8)^2 |\n",
    "          C('G7sus', 2, 1/4, 1/8)^2) * 2\n",
    "\n",
    "play(guitar, bpm=100, instrument=20)"
   ]
  },
  {
   "cell_type": "markdown",
   "metadata": {},
   "source": [
    "# Basic Logic\n",
    "## Painting Algorithms\n",
    "### Brushes type and timbres\n",
    "+ If `circle brush`, `timbre = 46 (Orchestral Harp)`\n",
    "+ If `Square brush`, `timbre = 109 (Bagpip)`\n",
    "+ If `line brush`, `timbre = 25 (Acoustic Guitar)`\n",
    "+ If `star brush`, `timbre = 108 (Kalimba)`\n",
    "+ If `polygon brush`, `timbre = 20 (Church Organ)`\n",
    "+ If `random`, `timbre = 123 Bird Tweet`\n",
    "### Brushes size and volume\n",
    "smaller size, lower volume\n",
    "### Pitches and paintings\n",
    "Pitches Note: change according to x, y positions\n",
    "\n",
    "## Music Algorithms\n",
    "### Key control\n",
    "+ Key restrict mode: When choorse corresponding key, only seven notes can be played.\n",
    "+ Nonrestriction mode: No key restrictions\n"
   ]
  }
 ],
 "metadata": {
  "kernelspec": {
   "display_name": "Python 3.9.12",
   "language": "python",
   "name": "python3"
  },
  "language_info": {
   "codemirror_mode": {
    "name": "ipython",
    "version": 3
   },
   "file_extension": ".py",
   "mimetype": "text/x-python",
   "name": "python",
   "nbconvert_exporter": "python",
   "pygments_lexer": "ipython3",
   "version": "3.9.12"
  },
  "orig_nbformat": 4,
  "vscode": {
   "interpreter": {
    "hash": "0eb76114ece576623c0ab1cc5a444e33cbfa6d367e571bce7ad0fa4f08c9a00f"
   }
  }
 },
 "nbformat": 4,
 "nbformat_minor": 2
}
