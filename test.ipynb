{
 "cells": [
  {
   "cell_type": "code",
   "execution_count": 3,
   "metadata": {},
   "outputs": [],
   "source": [
    "from musicpy import *\n",
    "import numpy as np\n",
    "import time"
   ]
  },
  {
   "cell_type": "code",
   "execution_count": 72,
   "metadata": {},
   "outputs": [
    {
     "data": {
      "text/plain": [
       "'C6'"
      ]
     },
     "execution_count": 72,
     "metadata": {},
     "output_type": "execute_result"
    }
   ],
   "source": [
    "def findparas(points, listtype):\n",
    "    sort_point = points[np.argsort(points[:,0])]\n",
    "    unique_points = points[np.unique(points[:,0]//20,axis=0,return_index=True)[1]]\n",
    "    x = unique_points[:,0]//20\n",
    "    y = unique_points[:,1]\n",
    "    timelist = np.zeros(50)\n",
    "    chordlist = []\n",
    "    for i in set(x):\n",
    "        timelist[i] = 1\n",
    "    onesrange = np.argwhere(timelist == 1).flatten()\n",
    "    starttime = onesrange[0]\n",
    "    intervallist = np.zeros(len(onesrange))\n",
    "    for i in range(len(onesrange)):\n",
    "        if i!=len(onesrange)-1:\n",
    "            intervallist[i] = onesrange[i+1]-onesrange[i]\n",
    "        else:\n",
    "            intervallist[i] = 50-onesrange[i]\n",
    "    for yval in y:\n",
    "        chordlist.append(decideNote(yval, listtype))\n",
    "    return starttime, intervallist.tolist(), chordlist\n",
    "def decideNote(y, listtype):\n",
    "    classy = 0\n",
    "    interval = 100/7\n",
    "    octave = 6- y//100\n",
    "    y = y%100\n",
    "    for i in range(1,7):\n",
    "        if y>=interval*i and y<=interval*(i+1):\n",
    "            classy = i\n",
    "    return listtype[classy]+str(octave)\n",
    "### checkpoint\n",
    "majorChordList = [\"C\", \"D\", \"E\", \"F\", \"G\", \"A\", \"B\"]\n",
    "decideNote(0, majorChordList)"
   ]
  },
  {
   "cell_type": "code",
   "execution_count": null,
   "metadata": {},
   "outputs": [],
   "source": [
    "def play_button_event(): #play piece\n",
    "    trackTotal = [C1, C2, C3, C4, C5]\n",
    "    instrumentTotal = [20, 25, 46, 108, 109]\n",
    "    \n",
    "    my_piece = piece(tracks = tracklist, instruments = instrumentlist, bpm = 120, start_times = startTimelist)\n",
    "    play(my_piece)\n",
    "\n",
    "\n",
    "button_play = Button(root, text=\"Play your music\", height=1, width=20, bg='white', command=lambda:play_button_event())\n",
    "button_play_window = canvas.create_window(500+button_offset, 350, anchor=NW, window=button_play)"
   ]
  },
  {
   "cell_type": "code",
   "execution_count": 51,
   "metadata": {},
   "outputs": [],
   "source": [
    "C1 = chord(['C5','E5', 'G5', 'B5'], interval=[0.5, 0.5, 0, 2], duration=[1, 2, 0.5, 1])\n",
    "C2 = (chord('C2, C2, G1, G1') % (1,1)) % 2\n",
    "C3 = (chord('F#6, G6') % (1/8, 1/8) % 8 | chord('A5, B5') % (1/8, 1/8) % 8) % 2\n",
    "C4 = (chord('G3, G3, G3, G3') % ([3/8,1/8,1/4,1/4], [3/8,1/8,1/4,1/4]) % 4)\n",
    "\n",
    "new_piece = piece(tracks=[C1, C2, C3, C4],\n",
    "                  instruments=[11, 'Electric Bass (finger)', 'Orchestral Harp', 'Synth Drum'],\n",
    "                  bpm=120,\n",
    "                  start_times=[0, 2, 2, 6])\n",
    "play(new_piece)"
   ]
  },
  {
   "cell_type": "code",
   "execution_count": 7,
   "metadata": {},
   "outputs": [],
   "source": [
    "play(chord(['C5','E5', 'G5', 'B5'], interval=[0.5, 0.5, 0, 2], duration=[1, 2, 0.5, 1]))"
   ]
  },
  {
   "cell_type": "markdown",
   "metadata": {},
   "source": [
    "|  No  | Instrument  |\n",
    "| ---- | ---- |\n",
    "|  20  | Church Organ |\n",
    "|  25  | Acoustic Guitar (steel) |\n",
    "|  46  | Orchestral Harp |\n",
    "|  108 | Kalimba |\n",
    "|  109 | Bagpipe |\n",
    "|  123 | Bird Tweet| \n"
   ]
  },
  {
   "cell_type": "code",
   "execution_count": 6,
   "metadata": {},
   "outputs": [
    {
     "ename": "ValueError",
     "evalue": "Invalid note name 'E#', accepted note names are ['C', 'C#', 'D', 'D#', 'E', 'F', 'F#', 'G', 'G#', 'A', 'A#', 'B', 'Bb', 'Eb', 'Ab', 'Db', 'Gb', 'c', 'c#', 'd', 'd#', 'e', 'f', 'f#', 'g', 'g#', 'a', 'a#', 'b', 'bb', 'eb', 'ab', 'db', 'gb']",
     "output_type": "error",
     "traceback": [
      "\u001b[0;31m---------------------------------------------------------------------------\u001b[0m",
      "\u001b[0;31mValueError\u001b[0m                                Traceback (most recent call last)",
      "\u001b[1;32m/Users/jiayingli/Desktop/MUSI 6004/Project/PaintingPy-main/test.ipynb Cell 7\u001b[0m in \u001b[0;36m<cell line: 1>\u001b[0;34m()\u001b[0m\n\u001b[0;32m----> <a href='vscode-notebook-cell:/Users/jiayingli/Desktop/MUSI%206004/Project/PaintingPy-main/test.ipynb#W6sZmlsZQ%3D%3D?line=0'>1</a>\u001b[0m play(note(\u001b[39m\"\u001b[39;49m\u001b[39mE#\u001b[39;49m\u001b[39m\"\u001b[39;49m))\n",
      "File \u001b[0;32m~/opt/anaconda3/lib/python3.9/site-packages/musicpy/structures.py:13\u001b[0m, in \u001b[0;36mnote.__init__\u001b[0;34m(self, name, num, duration, volume, channel)\u001b[0m\n\u001b[1;32m     11\u001b[0m \u001b[39mdef\u001b[39;00m \u001b[39m__init__\u001b[39m(\u001b[39mself\u001b[39m, name, num\u001b[39m=\u001b[39m\u001b[39m4\u001b[39m, duration\u001b[39m=\u001b[39m\u001b[39m0.25\u001b[39m, volume\u001b[39m=\u001b[39m\u001b[39m100\u001b[39m, channel\u001b[39m=\u001b[39m\u001b[39mNone\u001b[39;00m):\n\u001b[1;32m     12\u001b[0m     \u001b[39mif\u001b[39;00m name \u001b[39mnot\u001b[39;00m \u001b[39min\u001b[39;00m database\u001b[39m.\u001b[39mstandard:\n\u001b[0;32m---> 13\u001b[0m         \u001b[39mraise\u001b[39;00m \u001b[39mValueError\u001b[39;00m(\n\u001b[1;32m     14\u001b[0m             \u001b[39mf\u001b[39m\u001b[39m\"\u001b[39m\u001b[39mInvalid note name \u001b[39m\u001b[39m'\u001b[39m\u001b[39m{\u001b[39;00mname\u001b[39m}\u001b[39;00m\u001b[39m'\u001b[39m\u001b[39m, accepted note names are \u001b[39m\u001b[39m{\u001b[39;00m\u001b[39mlist\u001b[39m(database\u001b[39m.\u001b[39mstandard\u001b[39m.\u001b[39mkeys())\u001b[39m}\u001b[39;00m\u001b[39m\"\u001b[39m\n\u001b[1;32m     15\u001b[0m         )\n\u001b[1;32m     16\u001b[0m     \u001b[39mself\u001b[39m\u001b[39m.\u001b[39mname \u001b[39m=\u001b[39m name\n\u001b[1;32m     17\u001b[0m     \u001b[39mself\u001b[39m\u001b[39m.\u001b[39mnum \u001b[39m=\u001b[39m num\n",
      "\u001b[0;31mValueError\u001b[0m: Invalid note name 'E#', accepted note names are ['C', 'C#', 'D', 'D#', 'E', 'F', 'F#', 'G', 'G#', 'A', 'A#', 'B', 'Bb', 'Eb', 'Ab', 'Db', 'Gb', 'c', 'c#', 'd', 'd#', 'e', 'f', 'f#', 'g', 'g#', 'a', 'a#', 'b', 'bb', 'eb', 'ab', 'db', 'gb']"
     ]
    }
   ],
   "source": [
    "play(note(\"E#\"))"
   ]
  },
  {
   "cell_type": "code",
   "execution_count": 77,
   "metadata": {},
   "outputs": [
    {
     "data": {
      "text/plain": [
       "array([[1, 2]])"
      ]
     },
     "execution_count": 77,
     "metadata": {},
     "output_type": "execute_result"
    }
   ],
   "source": [
    "np.array([[1,2]])"
   ]
  },
  {
   "cell_type": "code",
   "execution_count": 75,
   "metadata": {},
   "outputs": [
    {
     "data": {
      "text/plain": [
       "['D5', 'C5', 'D6', 'C6', 'D6']"
      ]
     },
     "execution_count": 75,
     "metadata": {},
     "output_type": "execute_result"
    }
   ],
   "source": [
    "points = np.array([[100,3],\n",
    "                [40,100], \n",
    "                [21,120],\n",
    "                [39,20],\n",
    "                [44,20],\n",
    "                [50,20],\n",
    "                [140,20],\n",
    "                [79,20]])\n",
    "start_time, intervallist, chordnotelist = findparas(points, majorChordList)\n",
    "chordnotelist"
   ]
  },
  {
   "cell_type": "code",
   "execution_count": 61,
   "metadata": {},
   "outputs": [
    {
     "name": "stdout",
     "output_type": "stream",
     "text": [
      "C6\n",
      "C5\n",
      "D5\n",
      "D6\n",
      "D6\n",
      "D6\n",
      "D6\n",
      "D6\n"
     ]
    }
   ],
   "source": [
    "for i in points[:,1]:\n",
    "    print(decideNote(i, majorChordList))"
   ]
  },
  {
   "cell_type": "code",
   "execution_count": 4,
   "metadata": {},
   "outputs": [
    {
     "data": {
      "text/plain": [
       "array([[ 21, 120],\n",
       "       [ 39,  20],\n",
       "       [ 40, 100],\n",
       "       [ 44,  20],\n",
       "       [ 50,  20],\n",
       "       [ 79,  20],\n",
       "       [100,   3],\n",
       "       [140,  20]])"
      ]
     },
     "execution_count": 4,
     "metadata": {},
     "output_type": "execute_result"
    }
   ],
   "source": [
    "sort_point = points[np.argsort(points[:,0])]\n",
    "sort_point"
   ]
  },
  {
   "cell_type": "code",
   "execution_count": 10,
   "metadata": {},
   "outputs": [
    {
     "data": {
      "text/plain": [
       "array([0., 1., 1., 1., 0., 1., 0., 1., 0., 0., 0., 0., 0., 0., 0., 0., 0.,\n",
       "       0., 0., 0., 0., 0., 0., 0., 0., 0., 0., 0., 0., 0., 0., 0., 0., 0.,\n",
       "       0., 0., 0., 0., 0., 0., 0., 0., 0., 0., 0., 0., 0., 0., 0., 0.])"
      ]
     },
     "execution_count": 10,
     "metadata": {},
     "output_type": "execute_result"
    }
   ],
   "source": [
    "x = sort_point[:,0]//20\n",
    "timelist = np.zeros(50)\n",
    "for i in set(x):\n",
    "    timelist[i] = 1\n",
    "timelist"
   ]
  },
  {
   "cell_type": "code",
   "execution_count": 15,
   "metadata": {},
   "outputs": [
    {
     "data": {
      "text/plain": [
       "array([1, 2, 3, 5, 7])"
      ]
     },
     "execution_count": 15,
     "metadata": {},
     "output_type": "execute_result"
    }
   ],
   "source": [
    "onesrange = np.argwhere(timelist == 1).flatten()\n",
    "starttime = onesrange[0]\n",
    "onesrange"
   ]
  },
  {
   "cell_type": "code",
   "execution_count": 24,
   "metadata": {},
   "outputs": [
    {
     "data": {
      "text/plain": [
       "array([ 1.,  1.,  2.,  2., 43.])"
      ]
     },
     "execution_count": 24,
     "metadata": {},
     "output_type": "execute_result"
    }
   ],
   "source": [
    "intervallist = np.zeros(len(onesrange))\n",
    "for i in range(len(onesrange)):\n",
    "    if i!=len(onesrange)-1:\n",
    "        intervallist[i] = onesrange[i+1]-onesrange[i]\n",
    "    else:\n",
    "        intervallist[i] = 50-onesrange[i]\n",
    "intervallist"
   ]
  },
  {
   "cell_type": "code",
   "execution_count": 29,
   "metadata": {},
   "outputs": [],
   "source": [
    "play(chord([\"C\", \"D\", \"E\", \"F\", \"G\"], interval = intervallist.tolist()))"
   ]
  },
  {
   "cell_type": "code",
   "execution_count": 22,
   "metadata": {},
   "outputs": [
    {
     "data": {
      "text/plain": [
       "list[array([ 1.,  1.,  2.,  2., 43.])]"
      ]
     },
     "execution_count": 22,
     "metadata": {},
     "output_type": "execute_result"
    }
   ],
   "source": [
    "list[interval]"
   ]
  },
  {
   "cell_type": "markdown",
   "metadata": {},
   "source": [
    "---\n",
    "don't need"
   ]
  },
  {
   "cell_type": "code",
   "execution_count": null,
   "metadata": {},
   "outputs": [],
   "source": [
    "# generating notes\n",
    "majorNoteList = [\"C\", \"D\", \"E\", \"F\", \"G\", \"A\", \"B\"]\n",
    "def ytoNote(y, listtype, volume = 100):\n",
    "    classy = 0\n",
    "    interval = 100/7\n",
    "    if y <= 100: # pitch = 4\n",
    "        for i in range(1,7):\n",
    "            if y>=interval*i and y<=interval*(i+1):\n",
    "                classy = 7-i\n",
    "        return note(listtype[classy], 5, 1, volume)\n",
    "    else: # pitch = 5\n",
    "        y = y-100\n",
    "        for i in range(1,7):\n",
    "            if y>=interval*i and y<=interval*(i+1):\n",
    "                classy = 7-i\n",
    "        return note(listtype[classy], 4, 1, volume)\n",
    "def play_note(y, listtype, brush, volume = 100): # center (x, y), y <= 200, brush = instrument type\n",
    "    play(ytoNote(y, listtype, volume), instrument = brush)\n",
    "# generating chords\n",
    "majorChordList = [\"C\", \"Dm\", \"Em\", \"F\", \"G\", \"Am\", \"Bdim\"]\n",
    "def ytoChord(y, listtype):\n",
    "    classy = 0\n",
    "    interval = 100/7\n",
    "    if y <= 300: # pitch = 4\n",
    "        y -= 200\n",
    "        for i in range(1,7):\n",
    "            if y>=interval*i and y<=interval*(i+1):\n",
    "                classy = 7-i\n",
    "        return C(listtype[classy], 4, 1/4, 1/8)\n",
    "    else: # pitch = 5\n",
    "        y = y-300\n",
    "        for i in range(1,7):\n",
    "            if y>=interval*i and y<=interval*(i+1):\n",
    "                classy = 7-i\n",
    "        return C(listtype[classy], 3, 1/4, 1/8)\n",
    "def play_chord(y, listtype, brush, volume = 100): # center (x, y), y>200, brush = instrument type\n",
    "    c = ytoChord(y, listtype)\n",
    "    c.setvolume(volume)\n",
    "    play(c, instrument=brush)\n",
    "# combine together\n",
    "def play_sound(y, brush, volume):\n",
    "    if y <=200:\n",
    "        play_note(y, majorNoteList, brush, volume)\n",
    "    else:\n",
    "        play_chord(y, majorChordList, brush, volume)"
   ]
  },
  {
   "cell_type": "code",
   "execution_count": 8,
   "metadata": {},
   "outputs": [],
   "source": [
    "majorNoteList = [\"C\", \"D\", \"E\", \"F\", \"G\", \"A\", \"B\"]\n",
    "def ytoNote(y, listtype, volume = 100):\n",
    "    classy = 0\n",
    "    interval = 100/7\n",
    "    if y <= 100: # pitch = 4\n",
    "        for i in range(1,7):\n",
    "            if y>=interval*i and y<=interval*(i+1):\n",
    "                classy = i\n",
    "        return note(listtype[classy], 4, 1, volume)\n",
    "    else: # pitch = 5\n",
    "        y = y-100\n",
    "        for i in range(1,7):\n",
    "            if y>=interval*i and y<=interval*(i+1):\n",
    "                classy = i\n",
    "        return note(listtype[classy], 5, 1, volume)\n",
    "def play_note(y, listtype, brush, volume = 100): # center (x, y), y <= 200, brush = instrument type\n",
    "    play(ytoNote(y, listtype, volume), instrument = brush)\n",
    "\n",
    "majorNoteList = [\"C\", \"D\", \"E\", \"F\", \"G\", \"A\", \"B\"]\n",
    "timelist = [0]*50\n",
    "trackchordlist = []\n",
    "def ytoNoteTrack(x, y, listtype):\n",
    "    timelist[x//20] = 1\n",
    "    classy = 0\n",
    "    interval = 100/7\n",
    "    if y <= 100: # pitch = 4\n",
    "        for i in range(1,7):\n",
    "            if y>=interval*i and y<=interval*(i+1):\n",
    "                classy = i\n",
    "        trackchordlist.append(listtype[classy])\n",
    "    else: # pitch = 5\n",
    "        y = y-100\n",
    "        for i in range(1,7):\n",
    "            if y>=interval*i and y<=interval*(i+1):\n",
    "                classy = i\n",
    "        trackchordlist.append(listtype[classy])\n",
    "def play_track_note(x, y, listtype, brush, volume = 100): # center (x, y), y <= 200, brush = instrument type\n",
    "    play(ytoNote(y, listtype, volume), instrument = brush)"
   ]
  },
  {
   "cell_type": "code",
   "execution_count": 7,
   "metadata": {},
   "outputs": [],
   "source": [
    "play_note(y = 60, listtype = majorNoteList, brush = 108, volume = 100)"
   ]
  },
  {
   "cell_type": "code",
   "execution_count": 8,
   "metadata": {},
   "outputs": [],
   "source": [
    "majorChordList = [\"C\", \"Dm\", \"Em\", \"F\", \"G\", \"Am\", \"Bdim\"]\n",
    "def ytoChord(y, listtype):\n",
    "    classy = 0\n",
    "    interval = 100/7\n",
    "    if y <= 300: # pitch = 4\n",
    "        y -= 200\n",
    "        for i in range(1,7):\n",
    "            if y>=interval*i and y<=interval*(i+1):\n",
    "                classy = 7-i\n",
    "        return C(listtype[classy], 4, 1/4, 1/8)\n",
    "    else: # pitch = 5\n",
    "        y = y-300\n",
    "        for i in range(1,7):\n",
    "            if y>=interval*i and y<=interval*(i+1):\n",
    "                classy = 7-i\n",
    "        return C(listtype[classy], 5, 1/4, 1/8)\n",
    "def play_chord(y, listtype, brush, volume = 100): # center (x, y), y>200, brush = instrument type\n",
    "    c = ytoChord(y, listtype)\n",
    "    c.setvolume(volume)\n",
    "    play(c, instrument=brush)"
   ]
  },
  {
   "cell_type": "code",
   "execution_count": 9,
   "metadata": {},
   "outputs": [],
   "source": [
    "play_chord(210.35, majorChordList, 46, 100)"
   ]
  },
  {
   "cell_type": "code",
   "execution_count": 10,
   "metadata": {},
   "outputs": [],
   "source": [
    "def play_sound(y, brush, volume):\n",
    "    if y <=200:\n",
    "        play_note(y, majorNoteList, brush, volume)\n",
    "    else:\n",
    "        play_chord(y, majorChordList, brush, volume)"
   ]
  },
  {
   "cell_type": "code",
   "execution_count": 11,
   "metadata": {},
   "outputs": [],
   "source": [
    "play_sound(208, 108, 100)"
   ]
  },
  {
   "cell_type": "code",
   "execution_count": 12,
   "metadata": {},
   "outputs": [],
   "source": [
    "guitar = (C('CM7', 3, 1/4, 1/8)^2 |\n",
    "          C('G7sus', 2, 1/4, 1/8)^2 |\n",
    "          C('A7sus', 2, 1/4, 1/8)^2 |\n",
    "          C('Em7', 2, 1/4, 1/8)^2 | \n",
    "          C('FM7', 2, 1/4, 1/8)^2 |\n",
    "          C('CM7', 3, 1/4, 1/8)@1 |\n",
    "          C('AbM7', 2, 1/4, 1/8)^2 |\n",
    "          C('G7sus', 2, 1/4, 1/8)^2)\n",
    "\n",
    "play(guitar, bpm=100, instrument=46)"
   ]
  },
  {
   "cell_type": "markdown",
   "metadata": {},
   "source": [
    "|1|2|3|4|5|6|7|8|9|10|11|12|\n",
    "| - | - | - | - | - | - | - | - | - | - | - | - |\n",
    "|C|C#|D|D#|E|F|F#|G|G#|A|A#|B|\n",
    "|C|Db|D|Eb|E|F|Gb|G|Ab|A|Bb|B|\n"
   ]
  },
  {
   "cell_type": "markdown",
   "metadata": {},
   "source": [
    "# Basic Logic\n",
    "## Painting Algorithms\n",
    "### Brushes type and timbres\n",
    "+ If `circle brush`, `timbre = 46 (Orchestral Harp)`\n",
    "+ If `Square brush`, `timbre = 109 (Bagpip)`\n",
    "+ If `line brush`, `timbre = 25 (Acoustic Guitar)`\n",
    "+ If `star brush`, `timbre = 108 (Kalimba)`\n",
    "+ If `polygon brush`, `timbre = 20 (Church Organ)`\n",
    "+ If `random`, `timbre = 123 Bird Tweet`\n",
    "### Brushes size and volume\n",
    "smaller size, lower volume\n",
    "### Pitches and paintings\n",
    "Pitches Note: change according to x, y positions\n",
    "\n",
    "## Music Algorithms\n",
    "### Key control\n",
    "+ Key restrict mode: When choorse corresponding key, only seven notes can be played.\n",
    "+ Nonrestriction mode: No key restrictions\n"
   ]
  }
 ],
 "metadata": {
  "kernelspec": {
   "display_name": "Python 3.9.12",
   "language": "python",
   "name": "python3"
  },
  "language_info": {
   "codemirror_mode": {
    "name": "ipython",
    "version": 3
   },
   "file_extension": ".py",
   "mimetype": "text/x-python",
   "name": "python",
   "nbconvert_exporter": "python",
   "pygments_lexer": "ipython3",
   "version": "3.9.12"
  },
  "orig_nbformat": 4,
  "vscode": {
   "interpreter": {
    "hash": "0eb76114ece576623c0ab1cc5a444e33cbfa6d367e571bce7ad0fa4f08c9a00f"
   }
  }
 },
 "nbformat": 4,
 "nbformat_minor": 2
}
