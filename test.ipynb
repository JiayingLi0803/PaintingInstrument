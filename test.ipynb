{
 "cells": [
  {
   "cell_type": "code",
   "execution_count": 1,
   "metadata": {},
   "outputs": [],
   "source": [
    "from musicpy import *"
   ]
  },
  {
   "cell_type": "markdown",
   "metadata": {},
   "source": [
    "|  No  | Instrument  |\n",
    "| ---- | ---- |\n",
    "|  20  | Church Organ |\n",
    "|  25  | Acoustic Guitar (steel) |\n",
    "|  46  | Orchestral Harp |\n",
    "|  108 | Kalimba |\n",
    "|  109 | Bagpipe |\n",
    "|  123 | Bird Tweet| \n"
   ]
  },
  {
   "cell_type": "code",
   "execution_count": 44,
   "metadata": {},
   "outputs": [],
   "source": [
    "majorNoteList = [\"C\", \"D\", \"E\", \"F\", \"G\", \"A\", \"B\"]\n",
    "def ytoNote(y, listtype, volume = 100):\n",
    "    classy = 0\n",
    "    interval = 100/7\n",
    "    if y <= 100: # pitch = 4\n",
    "        for i in range(1,7):\n",
    "            if y>=interval*i and y<=interval*(i+1):\n",
    "                classy = i\n",
    "        return note(listtype[classy], 4, 1, volume)\n",
    "    else: # pitch = 5\n",
    "        y = y-100\n",
    "        for i in range(1,7):\n",
    "            if y>=interval*i and y<=interval*(i+1):\n",
    "                classy = i\n",
    "        return note(listtype[classy], 5, 1, volume)\n",
    "def play_note(y, listtype, brush, volume = 100): # center (x, y), y <= 200, brush = instrument type\n",
    "    play(ytoNote(y, listtype, volume), instrument = brush)"
   ]
  },
  {
   "cell_type": "code",
   "execution_count": 45,
   "metadata": {},
   "outputs": [],
   "source": [
    "play_note(y = 60, listtype = majorNoteList, brush = 108, volume = 100)"
   ]
  },
  {
   "cell_type": "code",
   "execution_count": 97,
   "metadata": {},
   "outputs": [],
   "source": [
    "majorChordList = [\"C\", \"Dm\", \"Em\", \"F\", \"G\", \"Am\", \"Bdim\"]\n",
    "def ytoChord(y, listtype):\n",
    "    classy = 0\n",
    "    interval = 100/7\n",
    "    if y <= 300: # pitch = 4\n",
    "        y -= 200\n",
    "        for i in range(1,7):\n",
    "            if y>=interval*i and y<=interval*(i+1):\n",
    "                classy = 7-i\n",
    "        return C(listtype[classy], 4, 1/4, 1/8)\n",
    "    else: # pitch = 5\n",
    "        y = y-300\n",
    "        for i in range(1,7):\n",
    "            if y>=interval*i and y<=interval*(i+1):\n",
    "                classy = 7-i\n",
    "        return C(listtype[classy], 5, 1/4, 1/8)\n",
    "def play_chord(y, listtype, brush, volume = 100): # center (x, y), y>200, brush = instrument type\n",
    "    c = ytoChord(y, listtype)\n",
    "    c.setvolume(volume)\n",
    "    play(c, instrument=brush)"
   ]
  },
  {
   "cell_type": "code",
   "execution_count": 98,
   "metadata": {},
   "outputs": [],
   "source": [
    "play_chord(210.35, majorChordList, 46, 100)"
   ]
  },
  {
   "cell_type": "code",
   "execution_count": 99,
   "metadata": {},
   "outputs": [],
   "source": [
    "def play_sound(y, brush, volume):\n",
    "    if y <=200:\n",
    "        play_note(y, majorNoteList, brush, volume)\n",
    "    else:\n",
    "        play_chord(y, majorChordList, brush, volume)"
   ]
  },
  {
   "cell_type": "code",
   "execution_count": 101,
   "metadata": {},
   "outputs": [],
   "source": [
    "play_sound(208, 108, 100)"
   ]
  },
  {
   "cell_type": "code",
   "execution_count": 3,
   "metadata": {},
   "outputs": [],
   "source": [
    "guitar = (C('CM7', 3, 1/4, 1/8)^2 |\n",
    "          C('G7sus', 2, 1/4, 1/8)^2 |\n",
    "          C('A7sus', 2, 1/4, 1/8)^2 |\n",
    "          C('Em7', 2, 1/4, 1/8)^2 | \n",
    "          C('FM7', 2, 1/4, 1/8)^2 |\n",
    "          C('CM7', 3, 1/4, 1/8)@1 |\n",
    "          C('AbM7', 2, 1/4, 1/8)^2 |\n",
    "          C('G7sus', 2, 1/4, 1/8)^2)\n",
    "\n",
    "play(guitar, bpm=100, instrument=46)"
   ]
  },
  {
   "cell_type": "markdown",
   "metadata": {},
   "source": [
    "|1|2|3|4|5|6|7|8|9|10|11|12|\n",
    "| - | - | - | - | - | - | - | - | - | - | - | - |\n",
    "|C|C#|D|D#|E|F|F#|G|G#|A|A#|B|\n",
    "|C|Db|D|Eb|E|F|Gb|G|Ab|A|Bb|B|\n"
   ]
  },
  {
   "cell_type": "markdown",
   "metadata": {},
   "source": [
    "# Basic Logic\n",
    "## Painting Algorithms\n",
    "### Brushes type and timbres\n",
    "+ If `circle brush`, `timbre = 46 (Orchestral Harp)`\n",
    "+ If `Square brush`, `timbre = 109 (Bagpip)`\n",
    "+ If `line brush`, `timbre = 25 (Acoustic Guitar)`\n",
    "+ If `star brush`, `timbre = 108 (Kalimba)`\n",
    "+ If `polygon brush`, `timbre = 20 (Church Organ)`\n",
    "+ If `random`, `timbre = 123 Bird Tweet`\n",
    "### Brushes size and volume\n",
    "smaller size, lower volume\n",
    "### Pitches and paintings\n",
    "Pitches Note: change according to x, y positions\n",
    "\n",
    "## Music Algorithms\n",
    "### Key control\n",
    "+ Key restrict mode: When choorse corresponding key, only seven notes can be played.\n",
    "+ Nonrestriction mode: No key restrictions\n"
   ]
  }
 ],
 "metadata": {
  "kernelspec": {
   "display_name": "Python 3.9.12",
   "language": "python",
   "name": "python3"
  },
  "language_info": {
   "codemirror_mode": {
    "name": "ipython",
    "version": 3
   },
   "file_extension": ".py",
   "mimetype": "text/x-python",
   "name": "python",
   "nbconvert_exporter": "python",
   "pygments_lexer": "ipython3",
   "version": "3.9.12"
  },
  "orig_nbformat": 4,
  "vscode": {
   "interpreter": {
    "hash": "0eb76114ece576623c0ab1cc5a444e33cbfa6d367e571bce7ad0fa4f08c9a00f"
   }
  }
 },
 "nbformat": 4,
 "nbformat_minor": 2
}
